{
 "cells": [
  {
   "cell_type": "code",
   "execution_count": 1,
   "id": "03befb54",
   "metadata": {},
   "outputs": [],
   "source": [
    "import os"
   ]
  },
  {
   "cell_type": "code",
   "execution_count": 2,
   "id": "3a1f3737",
   "metadata": {},
   "outputs": [
    {
     "data": {
      "text/plain": [
       "'d:\\\\Bhavadeesh\\\\Education\\\\MLOps-Udemy\\\\projects\\\\data_science_project\\\\research'"
      ]
     },
     "execution_count": 2,
     "metadata": {},
     "output_type": "execute_result"
    }
   ],
   "source": [
    "%pwd"
   ]
  },
  {
   "cell_type": "code",
   "execution_count": 3,
   "id": "04ab7c8e",
   "metadata": {},
   "outputs": [
    {
     "data": {
      "text/plain": [
       "'d:\\\\Bhavadeesh\\\\Education\\\\MLOps-Udemy\\\\projects\\\\data_science_project'"
      ]
     },
     "execution_count": 3,
     "metadata": {},
     "output_type": "execute_result"
    }
   ],
   "source": [
    "os.chdir('../')\n",
    "%pwd"
   ]
  },
  {
   "cell_type": "code",
   "execution_count": 4,
   "id": "dd1beebd",
   "metadata": {},
   "outputs": [],
   "source": [
    "from dataclasses import dataclass\n",
    "from pathlib import Path\n",
    "\n",
    "@dataclass\n",
    "class DataIngestionConfig:\n",
    "    root_dir: Path\n",
    "    source_URL: str\n",
    "    local_data_file: Path\n",
    "    unzip_dir: Path"
   ]
  },
  {
   "cell_type": "code",
   "execution_count": null,
   "id": "f13e087f",
   "metadata": {},
   "outputs": [],
   "source": [
    "from src.data_science.constants import *\n",
    "from src.data_science.utils.common import read_yaml, create_directories\n",
    "\n",
    "\n",
    "class ConfigurationManager:\n",
    "    def __init__(\n",
    "        self,\n",
    "        config_file_path: Path = CONFIG_FILE_PATH,\n",
    "        params_file_path: Path = PARAMS_FILE_PATH,\n",
    "        schema_file_path: Path = SCHEMA_FILE_PATH,\n",
    "    ):\n",
    "        self.config = read_yaml(config_file_path)\n",
    "        self.params = read_yaml(params_file_path)\n",
    "        self.schema = read_yaml(schema_file_path)\n",
    "\n",
    "        create_directories([self.config.artifacts_root])\n",
    "\n",
    "    def get_data_ingestion_config(self) -> DataIngestionConfig:\n",
    "        config = self.config.data_ingestion\n",
    "        create_directories([config.root_dir])\n",
    "\n",
    "        data_ingestion_config = DataIngestionConfig(\n",
    "            root_dir=config.root_dir,\n",
    "            source_URL=config.source_URL,\n",
    "            local_data_file=config.local_data_file,\n",
    "            unzip_dir=config.unzip_dir,\n",
    "        )\n",
    "        return data_ingestion_config"
   ]
  },
  {
   "cell_type": "code",
   "execution_count": 6,
   "id": "77612231",
   "metadata": {},
   "outputs": [],
   "source": [
    "# Component - Data Ingestion\n",
    "import urllib.request as requests\n",
    "from src.data_science import logger\n",
    "import zipfile\n",
    "\n",
    "\n",
    "class DataIngestion:\n",
    "    def __init__(self, config: DataIngestionConfig):\n",
    "        self.config = config\n",
    "\n",
    "    # Downloading the zip file from the source URL\n",
    "    def download_file(self):\n",
    "        if not os.path.exists(self.config.local_data_file):\n",
    "            filename, headers = requests.urlretrieve(\n",
    "                self.config.source_URL, self.config.local_data_file\n",
    "            )\n",
    "            logger.info(f\"{filename} download! with following info: {headers}\")\n",
    "        else:\n",
    "            logger.info(f\"File already exists at {self.config.local_data_file}\")\n",
    "\n",
    "    def extract_zip_file(self):\n",
    "        \"\"\"\n",
    "        zip_file_path = str\n",
    "        Extract the zip file into the data directory\n",
    "        Function returns None\n",
    "        \"\"\"\n",
    "        unzip_dir = self.config.unzip_dir\n",
    "        os.makedirs(unzip_dir, exist_ok=True)\n",
    "        with zipfile.ZipFile(self.config.local_data_file, \"r\") as zip_ref:\n",
    "            zip_ref.extractall(unzip_dir)\n",
    "            logger.info(f\"Extracted all the files in {unzip_dir}\")\n",
    "\n",
    "    def __repr__(self) -> str:\n",
    "        return f\"DataIngestion({self.config})\""
   ]
  },
  {
   "cell_type": "code",
   "execution_count": 7,
   "id": "ba874a40",
   "metadata": {},
   "outputs": [
    {
     "name": "stdout",
     "output_type": "stream",
     "text": [
      "[2025-04-27 12:02:38,898: INFO: common: YAML file: config\\config.yaml loaded successfully]\n",
      "[2025-04-27 12:02:38,900: INFO: common: YAML file: params.yaml loaded successfully]\n",
      "[2025-04-27 12:02:38,905: INFO: common: YAML file: schema.yaml loaded successfully]\n",
      "[2025-04-27 12:02:38,907: INFO: common: Directory created at: artifacts]\n",
      "[2025-04-27 12:02:38,908: INFO: common: Directory created at: artifacts/data_ingestion]\n",
      "[2025-04-27 12:02:38,910: INFO: 3729056568: File already exists at artifacts\\data_ingestion\\data.zip]\n",
      "[2025-04-27 12:02:38,913: INFO: 3729056568: Extracted all the files in artifacts\\data_ingestion]\n"
     ]
    }
   ],
   "source": [
    "try:\n",
    "    config = ConfigurationManager()\n",
    "    data_ingestion_config = config.get_data_ingestion_config()\n",
    "    data_ingestion = DataIngestion(data_ingestion_config)\n",
    "    data_ingestion.download_file()\n",
    "    data_ingestion.extract_zip_file()\n",
    "except Exception as e:\n",
    "    raise e"
   ]
  },
  {
   "cell_type": "code",
   "execution_count": null,
   "id": "aff1fadf",
   "metadata": {},
   "outputs": [],
   "source": []
  }
 ],
 "metadata": {
  "kernelspec": {
   "display_name": "Python 3",
   "language": "python",
   "name": "python3"
  },
  "language_info": {
   "codemirror_mode": {
    "name": "ipython",
    "version": 3
   },
   "file_extension": ".py",
   "mimetype": "text/x-python",
   "name": "python",
   "nbconvert_exporter": "python",
   "pygments_lexer": "ipython3",
   "version": "3.10.16"
  }
 },
 "nbformat": 4,
 "nbformat_minor": 5
}
